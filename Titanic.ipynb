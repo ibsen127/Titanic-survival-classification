{
 "cells": [
  {
   "cell_type": "markdown",
   "id": "0d3b0713-940d-40bd-a0d1-fa384054019c",
   "metadata": {},
   "source": [
    "# Titanic Project"
   ]
  },
  {
   "cell_type": "markdown",
   "id": "d1a77a20-16fe-461c-8197-56e4d21b24e5",
   "metadata": {},
   "source": [
    "### Problem Definition\n",
    "Use Machine Learning to create a model that predicts which passengers survived the Titanic shipwreck."
   ]
  },
  {
   "cell_type": "markdown",
   "id": "e117dabb-4f1b-48df-a29a-9f0ab7ef865a",
   "metadata": {},
   "source": [
    "## Data Dictionary \n",
    ". survival\tSurvival\t0 = No, 1 = Yes\n",
    "\n",
    ". pclass\tTicket class\t1 = 1st, 2 = 2nd, 3 = 3rd\n",
    "\n",
    ". sex\tSex\n",
    "\n",
    ". Age\tAge in years\n",
    "\n",
    ". sibsp\tnumber of siblings / spouses aboard the Titanic\n",
    "\n",
    ". parch\t# of parents / children aboard the Titanic\n",
    "\n",
    ". ticket\tTicket number\n",
    "\n",
    ". fare\tPassenger fare\n",
    "\n",
    ". cabin\tCabin number\n",
    "\n",
    ". embarked\tPort of Embarkation\tC = Cherbourg, Q = Queenstown, S = Southampton"
   ]
  },
  {
   "cell_type": "code",
   "execution_count": 5,
   "id": "1d494a91-2a11-4d85-abe5-92309e7fa600",
   "metadata": {},
   "outputs": [],
   "source": [
    "# Import required library\n",
    "import pandas as pd \n",
    "import numpy as np\n",
    "import matplotlib.pyplot as plt "
   ]
  },
  {
   "cell_type": "code",
   "execution_count": 61,
   "id": "7f2e8478-a470-4b18-931e-babe49c7f110",
   "metadata": {},
   "outputs": [
    {
     "data": {
      "text/html": [
       "<div>\n",
       "<style scoped>\n",
       "    .dataframe tbody tr th:only-of-type {\n",
       "        vertical-align: middle;\n",
       "    }\n",
       "\n",
       "    .dataframe tbody tr th {\n",
       "        vertical-align: top;\n",
       "    }\n",
       "\n",
       "    .dataframe thead th {\n",
       "        text-align: right;\n",
       "    }\n",
       "</style>\n",
       "<table border=\"1\" class=\"dataframe\">\n",
       "  <thead>\n",
       "    <tr style=\"text-align: right;\">\n",
       "      <th></th>\n",
       "      <th>PassengerId</th>\n",
       "      <th>Survived</th>\n",
       "      <th>Pclass</th>\n",
       "      <th>Name</th>\n",
       "      <th>Sex</th>\n",
       "      <th>Age</th>\n",
       "      <th>SibSp</th>\n",
       "      <th>Parch</th>\n",
       "      <th>Ticket</th>\n",
       "      <th>Fare</th>\n",
       "      <th>Cabin</th>\n",
       "      <th>Embarked</th>\n",
       "    </tr>\n",
       "  </thead>\n",
       "  <tbody>\n",
       "    <tr>\n",
       "      <th>0</th>\n",
       "      <td>1</td>\n",
       "      <td>0</td>\n",
       "      <td>3</td>\n",
       "      <td>Braund, Mr. Owen Harris</td>\n",
       "      <td>male</td>\n",
       "      <td>22.0</td>\n",
       "      <td>1</td>\n",
       "      <td>0</td>\n",
       "      <td>A/5 21171</td>\n",
       "      <td>7.2500</td>\n",
       "      <td>NaN</td>\n",
       "      <td>S</td>\n",
       "    </tr>\n",
       "    <tr>\n",
       "      <th>1</th>\n",
       "      <td>2</td>\n",
       "      <td>1</td>\n",
       "      <td>1</td>\n",
       "      <td>Cumings, Mrs. John Bradley (Florence Briggs Th...</td>\n",
       "      <td>female</td>\n",
       "      <td>38.0</td>\n",
       "      <td>1</td>\n",
       "      <td>0</td>\n",
       "      <td>PC 17599</td>\n",
       "      <td>71.2833</td>\n",
       "      <td>C85</td>\n",
       "      <td>C</td>\n",
       "    </tr>\n",
       "    <tr>\n",
       "      <th>2</th>\n",
       "      <td>3</td>\n",
       "      <td>1</td>\n",
       "      <td>3</td>\n",
       "      <td>Heikkinen, Miss. Laina</td>\n",
       "      <td>female</td>\n",
       "      <td>26.0</td>\n",
       "      <td>0</td>\n",
       "      <td>0</td>\n",
       "      <td>STON/O2. 3101282</td>\n",
       "      <td>7.9250</td>\n",
       "      <td>NaN</td>\n",
       "      <td>S</td>\n",
       "    </tr>\n",
       "    <tr>\n",
       "      <th>3</th>\n",
       "      <td>4</td>\n",
       "      <td>1</td>\n",
       "      <td>1</td>\n",
       "      <td>Futrelle, Mrs. Jacques Heath (Lily May Peel)</td>\n",
       "      <td>female</td>\n",
       "      <td>35.0</td>\n",
       "      <td>1</td>\n",
       "      <td>0</td>\n",
       "      <td>113803</td>\n",
       "      <td>53.1000</td>\n",
       "      <td>C123</td>\n",
       "      <td>S</td>\n",
       "    </tr>\n",
       "    <tr>\n",
       "      <th>4</th>\n",
       "      <td>5</td>\n",
       "      <td>0</td>\n",
       "      <td>3</td>\n",
       "      <td>Allen, Mr. William Henry</td>\n",
       "      <td>male</td>\n",
       "      <td>35.0</td>\n",
       "      <td>0</td>\n",
       "      <td>0</td>\n",
       "      <td>373450</td>\n",
       "      <td>8.0500</td>\n",
       "      <td>NaN</td>\n",
       "      <td>S</td>\n",
       "    </tr>\n",
       "  </tbody>\n",
       "</table>\n",
       "</div>"
      ],
      "text/plain": [
       "   PassengerId  Survived  Pclass  \\\n",
       "0            1         0       3   \n",
       "1            2         1       1   \n",
       "2            3         1       3   \n",
       "3            4         1       1   \n",
       "4            5         0       3   \n",
       "\n",
       "                                                Name     Sex   Age  SibSp  \\\n",
       "0                            Braund, Mr. Owen Harris    male  22.0      1   \n",
       "1  Cumings, Mrs. John Bradley (Florence Briggs Th...  female  38.0      1   \n",
       "2                             Heikkinen, Miss. Laina  female  26.0      0   \n",
       "3       Futrelle, Mrs. Jacques Heath (Lily May Peel)  female  35.0      1   \n",
       "4                           Allen, Mr. William Henry    male  35.0      0   \n",
       "\n",
       "   Parch            Ticket     Fare Cabin Embarked  \n",
       "0      0         A/5 21171   7.2500   NaN        S  \n",
       "1      0          PC 17599  71.2833   C85        C  \n",
       "2      0  STON/O2. 3101282   7.9250   NaN        S  \n",
       "3      0            113803  53.1000  C123        S  \n",
       "4      0            373450   8.0500   NaN        S  "
      ]
     },
     "execution_count": 61,
     "metadata": {},
     "output_type": "execute_result"
    }
   ],
   "source": [
    "# Load training data\n",
    "train_data = pd.read_csv(\"train.csv\")\n",
    "\n",
    "# Load test data\n",
    "test_data = pd.read_csv(\"test.csv\")\n",
    "\n",
    "# check data\n",
    "train_data.head()"
   ]
  },
  {
   "cell_type": "markdown",
   "id": "45e0d4b4-b049-49c0-8c9e-7aa7e7ae68c9",
   "metadata": {},
   "source": [
    "### Step 2: Exploratory Data Analysis (EDA)\n",
    "> We’ll explore the dataset to understand its structure, identify missing values, and visualize relationships."
   ]
  },
  {
   "cell_type": "code",
   "execution_count": 62,
   "id": "003546ae-e1fa-4ea0-b575-e7850a72fa73",
   "metadata": {},
   "outputs": [
    {
     "name": "stdout",
     "output_type": "stream",
     "text": [
      "train_data:  {(891, 12)}\n",
      "test_data:  {(418, 11)}\n",
      "<class 'pandas.core.frame.DataFrame'>\n",
      "RangeIndex: 891 entries, 0 to 890\n",
      "Data columns (total 12 columns):\n",
      " #   Column       Non-Null Count  Dtype  \n",
      "---  ------       --------------  -----  \n",
      " 0   PassengerId  891 non-null    int64  \n",
      " 1   Survived     891 non-null    int64  \n",
      " 2   Pclass       891 non-null    int64  \n",
      " 3   Name         891 non-null    object \n",
      " 4   Sex          891 non-null    object \n",
      " 5   Age          714 non-null    float64\n",
      " 6   SibSp        891 non-null    int64  \n",
      " 7   Parch        891 non-null    int64  \n",
      " 8   Ticket       891 non-null    object \n",
      " 9   Fare         891 non-null    float64\n",
      " 10  Cabin        204 non-null    object \n",
      " 11  Embarked     889 non-null    object \n",
      "dtypes: float64(2), int64(5), object(5)\n",
      "memory usage: 83.7+ KB\n"
     ]
    },
    {
     "data": {
      "text/html": [
       "<div>\n",
       "<style scoped>\n",
       "    .dataframe tbody tr th:only-of-type {\n",
       "        vertical-align: middle;\n",
       "    }\n",
       "\n",
       "    .dataframe tbody tr th {\n",
       "        vertical-align: top;\n",
       "    }\n",
       "\n",
       "    .dataframe thead th {\n",
       "        text-align: right;\n",
       "    }\n",
       "</style>\n",
       "<table border=\"1\" class=\"dataframe\">\n",
       "  <thead>\n",
       "    <tr style=\"text-align: right;\">\n",
       "      <th></th>\n",
       "      <th>PassengerId</th>\n",
       "      <th>Survived</th>\n",
       "      <th>Pclass</th>\n",
       "      <th>Age</th>\n",
       "      <th>SibSp</th>\n",
       "      <th>Parch</th>\n",
       "      <th>Fare</th>\n",
       "    </tr>\n",
       "  </thead>\n",
       "  <tbody>\n",
       "    <tr>\n",
       "      <th>count</th>\n",
       "      <td>891.000000</td>\n",
       "      <td>891.000000</td>\n",
       "      <td>891.000000</td>\n",
       "      <td>714.000000</td>\n",
       "      <td>891.000000</td>\n",
       "      <td>891.000000</td>\n",
       "      <td>891.000000</td>\n",
       "    </tr>\n",
       "    <tr>\n",
       "      <th>mean</th>\n",
       "      <td>446.000000</td>\n",
       "      <td>0.383838</td>\n",
       "      <td>2.308642</td>\n",
       "      <td>29.699118</td>\n",
       "      <td>0.523008</td>\n",
       "      <td>0.381594</td>\n",
       "      <td>32.204208</td>\n",
       "    </tr>\n",
       "    <tr>\n",
       "      <th>std</th>\n",
       "      <td>257.353842</td>\n",
       "      <td>0.486592</td>\n",
       "      <td>0.836071</td>\n",
       "      <td>14.526497</td>\n",
       "      <td>1.102743</td>\n",
       "      <td>0.806057</td>\n",
       "      <td>49.693429</td>\n",
       "    </tr>\n",
       "    <tr>\n",
       "      <th>min</th>\n",
       "      <td>1.000000</td>\n",
       "      <td>0.000000</td>\n",
       "      <td>1.000000</td>\n",
       "      <td>0.420000</td>\n",
       "      <td>0.000000</td>\n",
       "      <td>0.000000</td>\n",
       "      <td>0.000000</td>\n",
       "    </tr>\n",
       "    <tr>\n",
       "      <th>25%</th>\n",
       "      <td>223.500000</td>\n",
       "      <td>0.000000</td>\n",
       "      <td>2.000000</td>\n",
       "      <td>20.125000</td>\n",
       "      <td>0.000000</td>\n",
       "      <td>0.000000</td>\n",
       "      <td>7.910400</td>\n",
       "    </tr>\n",
       "    <tr>\n",
       "      <th>50%</th>\n",
       "      <td>446.000000</td>\n",
       "      <td>0.000000</td>\n",
       "      <td>3.000000</td>\n",
       "      <td>28.000000</td>\n",
       "      <td>0.000000</td>\n",
       "      <td>0.000000</td>\n",
       "      <td>14.454200</td>\n",
       "    </tr>\n",
       "    <tr>\n",
       "      <th>75%</th>\n",
       "      <td>668.500000</td>\n",
       "      <td>1.000000</td>\n",
       "      <td>3.000000</td>\n",
       "      <td>38.000000</td>\n",
       "      <td>1.000000</td>\n",
       "      <td>0.000000</td>\n",
       "      <td>31.000000</td>\n",
       "    </tr>\n",
       "    <tr>\n",
       "      <th>max</th>\n",
       "      <td>891.000000</td>\n",
       "      <td>1.000000</td>\n",
       "      <td>3.000000</td>\n",
       "      <td>80.000000</td>\n",
       "      <td>8.000000</td>\n",
       "      <td>6.000000</td>\n",
       "      <td>512.329200</td>\n",
       "    </tr>\n",
       "  </tbody>\n",
       "</table>\n",
       "</div>"
      ],
      "text/plain": [
       "       PassengerId    Survived      Pclass         Age       SibSp  \\\n",
       "count   891.000000  891.000000  891.000000  714.000000  891.000000   \n",
       "mean    446.000000    0.383838    2.308642   29.699118    0.523008   \n",
       "std     257.353842    0.486592    0.836071   14.526497    1.102743   \n",
       "min       1.000000    0.000000    1.000000    0.420000    0.000000   \n",
       "25%     223.500000    0.000000    2.000000   20.125000    0.000000   \n",
       "50%     446.000000    0.000000    3.000000   28.000000    0.000000   \n",
       "75%     668.500000    1.000000    3.000000   38.000000    1.000000   \n",
       "max     891.000000    1.000000    3.000000   80.000000    8.000000   \n",
       "\n",
       "            Parch        Fare  \n",
       "count  891.000000  891.000000  \n",
       "mean     0.381594   32.204208  \n",
       "std      0.806057   49.693429  \n",
       "min      0.000000    0.000000  \n",
       "25%      0.000000    7.910400  \n",
       "50%      0.000000   14.454200  \n",
       "75%      0.000000   31.000000  \n",
       "max      6.000000  512.329200  "
      ]
     },
     "execution_count": 62,
     "metadata": {},
     "output_type": "execute_result"
    }
   ],
   "source": [
    "# check shape of the dataset\n",
    "print(f\"train_data: \",{train_data.shape})\n",
    "print(f\"test_data: \", {test_data.shape})\n",
    "\n",
    "# get info about data\n",
    "train_data.info()\n",
    "\n",
    "# describe the data\n",
    "train_data.describe()"
   ]
  },
  {
   "cell_type": "code",
   "execution_count": 63,
   "id": "b88ac0e4-1ee2-4b80-9b06-37dc0c34f7ff",
   "metadata": {},
   "outputs": [
    {
     "data": {
      "text/plain": [
       "PassengerId      0\n",
       "Survived         0\n",
       "Pclass           0\n",
       "Name             0\n",
       "Sex              0\n",
       "Age            177\n",
       "SibSp            0\n",
       "Parch            0\n",
       "Ticket           0\n",
       "Fare             0\n",
       "Cabin          687\n",
       "Embarked         2\n",
       "dtype: int64"
      ]
     },
     "execution_count": 63,
     "metadata": {},
     "output_type": "execute_result"
    }
   ],
   "source": [
    "train_data.isnull().sum()"
   ]
  },
  {
   "cell_type": "code",
   "execution_count": 64,
   "id": "66cfba50-d851-4344-b968-53d6e134a8b9",
   "metadata": {},
   "outputs": [
    {
     "data": {
      "image/png": "[encoded data removed]",
      "text/plain": [
       "<Figure size 800x500 with 1 Axes>"
      ]
     },
     "metadata": {},
     "output_type": "display_data"
    }
   ],
   "source": [
    "# check missing values\n",
    "train_data.isnull().sum()\n",
    "\n",
    "# visualize missing data with heatmap\n",
    "import seaborn as sns\n",
    "plt.figure(figsize=(8,5))\n",
    "sns.heatmap(train_data.isnull(),cbar = False, cmap = 'viridis')\n",
    "plt.title(\"Missing values in training data\")\n",
    "plt.show()"
   ]
  },
  {
   "cell_type": "markdown",
   "id": "ac8cbd97-c562-4758-b34a-6174c9e54c3e",
   "metadata": {},
   "source": [
    "**Visualize Relationship between data**"
   ]
  },
  {
   "cell_type": "code",
   "execution_count": 65,
   "id": "f17f4e4d-e588-4b1e-90d3-02099ad4df58",
   "metadata": {},
   "outputs": [
    {
     "data": {
      "image/png": "[encoded data removed]",
      "text/plain": [
       "<Figure size 640x480 with 1 Axes>"
      ]
     },
     "metadata": {},
     "output_type": "display_data"
    },
    {
     "data": {
      "image/png": "[encoded data removed]",
      "text/plain": [
       "<Figure size 640x480 with 1 Axes>"
      ]
     },
     "metadata": {},
     "output_type": "display_data"
    },
    {
     "data": {
      "image/png": "[encoded data removed]",
      "text/plain": [
       "<Figure size 640x480 with 1 Axes>"
      ]
     },
     "metadata": {},
     "output_type": "display_data"
    }
   ],
   "source": [
    "# Survival count\n",
    "sns.countplot(x='Survived', data = train_data, hue='Survived', palette={0:'#FF6F61', 1:'#6B8E23'})\n",
    "plt.title(\"Survival count\")\n",
    "plt.show()\n",
    "\n",
    "# Survival by gender\n",
    "sns.countplot(x='Sex', data = train_data, hue='Survived', palette={0:'#FF6F61', 1:'#6B8E23'})\n",
    "plt.title(\"Survival by Gender\")\n",
    "plt.show()\n",
    "\n",
    "# Survival by passenger class\n",
    "sns.countplot(x='Pclass', data = train_data, hue='Survived', palette={0:'#FF6F61', 1:'#6B8E23'})\n",
    "plt.title(\"Survival by Passenger class\")\n",
    "plt.show()"
   ]
  },
  {
   "cell_type": "markdown",
   "id": "5e698c64-d97b-41b3-b304-a560c7eef7d5",
   "metadata": {},
   "source": [
    "### Step 3: Preprocessing Data\n",
    "> We’ll clean and preprocess the data to make it ready for modeling."
   ]
  },
  {
   "cell_type": "markdown",
   "id": "fb2a4b45-95e1-4f97-82f3-41e6e4e35d50",
   "metadata": {},
   "source": [
    "**Handling Missing values**"
   ]
  },
  {
   "cell_type": "code",
   "execution_count": 66,
   "id": "d891c7ce-6933-4262-ae33-a0d4727194d5",
   "metadata": {},
   "outputs": [],
   "source": [
    "# Filling missing age with median\n",
    "train_data['Age'] = train_data['Age'].fillna(train_data['Age'].median())\n",
    "test_data['Age'] = test_data['Age'].fillna(test_data['Age'].median())\n",
    "\n",
    "# Filling missing embark with mode\n",
    "train_data['Embarked'] = train_data['Embarked'].fillna(train_data['Embarked'].mode()[0])# zero means the top frequency number and it's safe\n",
    "test_data['Embarked'] = test_data['Embarked'].fillna(test_data['Embarked'].mode()[0])\n",
    "\n",
    "# Filling fare with median\n",
    "train_data['Fare'] = train_data['Fare'].fillna(train_data['Fare'].median())\n",
    "test_data['Fare'] = test_data['Fare'].fillna(test_data['Fare'].median())"
   ]
  },
  {
   "cell_type": "code",
   "execution_count": 67,
   "id": "a81241a8-af7e-4c7f-951f-2dc20385591c",
   "metadata": {},
   "outputs": [
    {
     "data": {
      "text/plain": [
       "PassengerId      0\n",
       "Survived         0\n",
       "Pclass           0\n",
       "Name             0\n",
       "Sex              0\n",
       "Age              0\n",
       "SibSp            0\n",
       "Parch            0\n",
       "Ticket           0\n",
       "Fare             0\n",
       "Cabin          687\n",
       "Embarked         0\n",
       "dtype: int64"
      ]
     },
     "execution_count": 67,
     "metadata": {},
     "output_type": "execute_result"
    }
   ],
   "source": [
    "train_data.isna().sum()"
   ]
  },
  {
   "cell_type": "markdown",
   "id": "a2345258-11f7-44f8-8807-15e278701ace",
   "metadata": {},
   "source": [
    "**Feature Engineering**"
   ]
  },
  {
   "cell_type": "code",
   "execution_count": 68,
   "id": "eadba490-be2c-4187-a6e5-07f004dba3c3",
   "metadata": {},
   "outputs": [],
   "source": [
    "# create new feature 'Family Size'\n",
    "train_data['FamilySize'] = train_data['SibSp'] + train_data['Parch'] + 1\n",
    "test_data['FamilySize'] = test_data['SibSp'] + test_data['Parch'] + 1\n",
    "\n",
    "# create new feature is alone\n",
    "train_data['IsAlone'] = (train_data['FamilySize']==1).astype(int)\n",
    "test_data['IsAlone'] = (test_data['FamilySize']==1).astype(int)# we use() to evaluate the condition first and change type later"
   ]
  },
  {
   "cell_type": "code",
   "execution_count": 69,
   "id": "57d44110-f98f-4c45-a35d-ca0bbf908890",
   "metadata": {},
   "outputs": [
    {
     "data": {
      "text/html": [
       "<div>\n",
       "<style scoped>\n",
       "    .dataframe tbody tr th:only-of-type {\n",
       "        vertical-align: middle;\n",
       "    }\n",
       "\n",
       "    .dataframe tbody tr th {\n",
       "        vertical-align: top;\n",
       "    }\n",
       "\n",
       "    .dataframe thead th {\n",
       "        text-align: right;\n",
       "    }\n",
       "</style>\n",
       "<table border=\"1\" class=\"dataframe\">\n",
       "  <thead>\n",
       "    <tr style=\"text-align: right;\">\n",
       "      <th></th>\n",
       "      <th>PassengerId</th>\n",
       "      <th>Survived</th>\n",
       "      <th>Pclass</th>\n",
       "      <th>Name</th>\n",
       "      <th>Sex</th>\n",
       "      <th>Age</th>\n",
       "      <th>SibSp</th>\n",
       "      <th>Parch</th>\n",
       "      <th>Ticket</th>\n",
       "      <th>Fare</th>\n",
       "      <th>Cabin</th>\n",
       "      <th>Embarked</th>\n",
       "      <th>FamilySize</th>\n",
       "      <th>IsAlone</th>\n",
       "    </tr>\n",
       "  </thead>\n",
       "  <tbody>\n",
       "    <tr>\n",
       "      <th>0</th>\n",
       "      <td>1</td>\n",
       "      <td>0</td>\n",
       "      <td>3</td>\n",
       "      <td>Braund, Mr. Owen Harris</td>\n",
       "      <td>male</td>\n",
       "      <td>22.0</td>\n",
       "      <td>1</td>\n",
       "      <td>0</td>\n",
       "      <td>A/5 21171</td>\n",
       "      <td>7.2500</td>\n",
       "      <td>NaN</td>\n",
       "      <td>S</td>\n",
       "      <td>2</td>\n",
       "      <td>0</td>\n",
       "    </tr>\n",
       "    <tr>\n",
       "      <th>1</th>\n",
       "      <td>2</td>\n",
       "      <td>1</td>\n",
       "      <td>1</td>\n",
       "      <td>Cumings, Mrs. John Bradley (Florence Briggs Th...</td>\n",
       "      <td>female</td>\n",
       "      <td>38.0</td>\n",
       "      <td>1</td>\n",
       "      <td>0</td>\n",
       "      <td>PC 17599</td>\n",
       "      <td>71.2833</td>\n",
       "      <td>C85</td>\n",
       "      <td>C</td>\n",
       "      <td>2</td>\n",
       "      <td>0</td>\n",
       "    </tr>\n",
       "    <tr>\n",
       "      <th>2</th>\n",
       "      <td>3</td>\n",
       "      <td>1</td>\n",
       "      <td>3</td>\n",
       "      <td>Heikkinen, Miss. Laina</td>\n",
       "      <td>female</td>\n",
       "      <td>26.0</td>\n",
       "      <td>0</td>\n",
       "      <td>0</td>\n",
       "      <td>STON/O2. 3101282</td>\n",
       "      <td>7.9250</td>\n",
       "      <td>NaN</td>\n",
       "      <td>S</td>\n",
       "      <td>1</td>\n",
       "      <td>1</td>\n",
       "    </tr>\n",
       "    <tr>\n",
       "      <th>3</th>\n",
       "      <td>4</td>\n",
       "      <td>1</td>\n",
       "      <td>1</td>\n",
       "      <td>Futrelle, Mrs. Jacques Heath (Lily May Peel)</td>\n",
       "      <td>female</td>\n",
       "      <td>35.0</td>\n",
       "      <td>1</td>\n",
       "      <td>0</td>\n",
       "      <td>113803</td>\n",
       "      <td>53.1000</td>\n",
       "      <td>C123</td>\n",
       "      <td>S</td>\n",
       "      <td>2</td>\n",
       "      <td>0</td>\n",
       "    </tr>\n",
       "    <tr>\n",
       "      <th>4</th>\n",
       "      <td>5</td>\n",
       "      <td>0</td>\n",
       "      <td>3</td>\n",
       "      <td>Allen, Mr. William Henry</td>\n",
       "      <td>male</td>\n",
       "      <td>35.0</td>\n",
       "      <td>0</td>\n",
       "      <td>0</td>\n",
       "      <td>373450</td>\n",
       "      <td>8.0500</td>\n",
       "      <td>NaN</td>\n",
       "      <td>S</td>\n",
       "      <td>1</td>\n",
       "      <td>1</td>\n",
       "    </tr>\n",
       "  </tbody>\n",
       "</table>\n",
       "</div>"
      ],
      "text/plain": [
       "   PassengerId  Survived  Pclass  \\\n",
       "0            1         0       3   \n",
       "1            2         1       1   \n",
       "2            3         1       3   \n",
       "3            4         1       1   \n",
       "4            5         0       3   \n",
       "\n",
       "                                                Name     Sex   Age  SibSp  \\\n",
       "0                            Braund, Mr. Owen Harris    male  22.0      1   \n",
       "1  Cumings, Mrs. John Bradley (Florence Briggs Th...  female  38.0      1   \n",
       "2                             Heikkinen, Miss. Laina  female  26.0      0   \n",
       "3       Futrelle, Mrs. Jacques Heath (Lily May Peel)  female  35.0      1   \n",
       "4                           Allen, Mr. William Henry    male  35.0      0   \n",
       "\n",
       "   Parch            Ticket     Fare Cabin Embarked  FamilySize  IsAlone  \n",
       "0      0         A/5 21171   7.2500   NaN        S           2        0  \n",
       "1      0          PC 17599  71.2833   C85        C           2        0  \n",
       "2      0  STON/O2. 3101282   7.9250   NaN        S           1        1  \n",
       "3      0            113803  53.1000  C123        S           2        0  \n",
       "4      0            373450   8.0500   NaN        S           1        1  "
      ]
     },
     "execution_count": 69,
     "metadata": {},
     "output_type": "execute_result"
    }
   ],
   "source": [
    "train_data.head()"
   ]
  },
  {
   "cell_type": "markdown",
   "id": "7a60aa5f-42e4-461b-8ab9-ab4ae4e54ba7",
   "metadata": {},
   "source": [
    "**Encode Categorical Variables**"
   ]
  },
  {
   "cell_type": "code",
   "execution_count": 70,
   "id": "4c0a0018-4ece-45f9-bfde-580b32d3bcde",
   "metadata": {},
   "outputs": [],
   "source": [
    "# convert 'Sex' into numerical value\n",
    "train_data['Sex'] = train_data['Sex'].map({'male': 0,'female':1})\n",
    "test_data['Sex'] = test_data['Sex'].map({'male': 0, 'female': 1})\n",
    "\n",
    "# one-hot-encode embarked\n",
    "# train_data = pd.get_dummies(train_data, columns=['Embarked'], drop_first=True)\n",
    "train_data = pd.get_dummies(train_data, columns=['Embarked'], drop_first=True)\n",
    "test_data = pd.get_dummies(test_data, columns=['Embarked'], drop_first=True)"
   ]
  },
  {
   "cell_type": "code",
   "execution_count": 71,
   "id": "b56be2dc-8f24-413c-82c4-6aa5964ec201",
   "metadata": {},
   "outputs": [
    {
     "name": "stdout",
     "output_type": "stream",
     "text": [
      "Index(['PassengerId', 'Survived', 'Pclass', 'Name', 'Sex', 'Age', 'SibSp',\n",
      "       'Parch', 'Ticket', 'Fare', 'Cabin', 'FamilySize', 'IsAlone',\n",
      "       'Embarked_Q', 'Embarked_S'],\n",
      "      dtype='object')\n"
     ]
    }
   ],
   "source": [
    "print(train_data.columns)\n"
   ]
  },
  {
   "cell_type": "markdown",
   "id": "5b05938a-902b-418e-9148-50453abc73a7",
   "metadata": {},
   "source": [
    "**Drop Unnecessary Columns**"
   ]
  },
  {
   "cell_type": "code",
   "execution_count": 72,
   "id": "b3d159c9-e1db-4244-88e2-474f9733e09d",
   "metadata": {},
   "outputs": [],
   "source": [
    "# drop columns that won't be used\n",
    "train_data.drop(['PassengerId','Name','Ticket','Cabin'], axis = 1, inplace=True)\n",
    "test_data.drop(['PassengerId','Name','Ticket','Cabin'], axis = 1, inplace=True)\n",
    "# train_data.columns\n",
    "# test_data.columns"
   ]
  },
  {
   "cell_type": "markdown",
   "id": "b8533fd3-e6b7-4469-95cb-1f4a281d5fe4",
   "metadata": {},
   "source": [
    "### Step 4: Model Building\n",
    "> We’ll start with a baseline model and then move to advanced models like CatBoost and XGBoostm."
   ]
  },
  {
   "cell_type": "markdown",
   "id": "9dd28f74-01d4-4cdb-a697-fa498b28558f",
   "metadata": {},
   "source": [
    "**Split the Data**"
   ]
  },
  {
   "cell_type": "code",
   "execution_count": 73,
   "id": "3782c284-12f1-4f09-b279-88104a9592c9",
   "metadata": {},
   "outputs": [],
   "source": [
    "from sklearn.model_selection import train_test_split\n",
    "\n",
    "# Define feature and target\n",
    "X = train_data.drop('Survived', axis=1)\n",
    "y = train_data['Survived']\n",
    "\n",
    "# Split data into train and validation sets\n",
    "X_train, X_val, y_train, y_val = train_test_split(X, y, test_size = 0.2, random_state=42)"
   ]
  },
  {
   "cell_type": "code",
   "execution_count": 74,
   "id": "568f8363-bfaa-4ab6-ac11-f416dcf86680",
   "metadata": {},
   "outputs": [
    {
     "data": {
      "text/plain": [
       "Survived      0\n",
       "Pclass        0\n",
       "Sex           0\n",
       "Age           0\n",
       "SibSp         0\n",
       "Parch         0\n",
       "Fare          0\n",
       "FamilySize    0\n",
       "IsAlone       0\n",
       "Embarked_Q    0\n",
       "Embarked_S    0\n",
       "dtype: int64"
      ]
     },
     "execution_count": 74,
     "metadata": {},
     "output_type": "execute_result"
    }
   ],
   "source": [
    "train_data.isna().sum()"
   ]
  },
  {
   "cell_type": "markdown",
   "id": "5bb17356-3441-4847-bc0b-1970092fe935",
   "metadata": {},
   "source": [
    "**Baseline Model(Logistic Regression)**"
   ]
  },
  {
   "cell_type": "code",
   "execution_count": 76,
   "id": "ab748d0e-dd8b-4b77-985b-efb4f0e08584",
   "metadata": {},
   "outputs": [
    {
     "name": "stdout",
     "output_type": "stream",
     "text": [
      "Baseline Model accuracy:  {0.7988826815642458}\n"
     ]
    }
   ],
   "source": [
    "from sklearn.linear_model import LogisticRegression\n",
    "from sklearn.metrics import accuracy_score\n",
    "\n",
    "# Train the model\n",
    "model = LogisticRegression(max_iter=500)\n",
    "model.fit(X_train,y_train)\n",
    "\n",
    "# make predictions\n",
    "y_pred = model.predict(X_val)\n",
    "\n",
    "# Evaluate the model\n",
    "accuracy = accuracy_score(y_val,y_pred)\n",
    "print(f\"Baseline Model accuracy: \", {accuracy})"
   ]
  },
  {
   "cell_type": "markdown",
   "id": "031fb6b4-7f4b-4abb-b8ce-81097526bcf6",
   "metadata": {},
   "source": [
    "### Step 5: Advanced Models (CatBoost and XGBoost)"
   ]
  },
  {
   "cell_type": "markdown",
   "id": "ced93e11-e3b0-40e9-b1fc-bdd3cddbdb63",
   "metadata": {},
   "source": [
    "**CatBoost**"
   ]
  },
  {
   "cell_type": "code",
   "execution_count": 79,
   "id": "9dbc3e0f-70c9-4ece-9d16-71de3b73ed23",
   "metadata": {},
   "outputs": [
    {
     "name": "stdout",
     "output_type": "stream",
     "text": [
      "Catboost Accuracy:  {0.8212290502793296}\n",
      "Catboost Classification Report: \n",
      "              precision    recall  f1-score   support\n",
      "\n",
      "           0       0.81      0.90      0.86       105\n",
      "           1       0.84      0.70      0.76        74\n",
      "\n",
      "    accuracy                           0.82       179\n",
      "   macro avg       0.83      0.80      0.81       179\n",
      "weighted avg       0.82      0.82      0.82       179\n",
      "\n"
     ]
    }
   ],
   "source": [
    "from catboost import CatBoostClassifier\n",
    "from sklearn.metrics import accuracy_score, classification_report\n",
    "\n",
    "# initialize catboost\n",
    "catboost_model = CatBoostClassifier(verbose=0, random_state=42)\n",
    "\n",
    "# Train the model\n",
    "catboost_model.fit(X_train,y_train)\n",
    "\n",
    "# Make predictions\n",
    "y_pred_catboost = catboost_model.predict(X_val)\n",
    "\n",
    "# Evaluate the model\n",
    "accuracy_catboost = accuracy_score(y_val, y_pred_catboost)\n",
    "print(f\"Catboost Accuracy: \", {accuracy_catboost})\n",
    "\n",
    "# Classification Report\n",
    "print(\"Catboost Classification Report: \")\n",
    "print(classification_report(y_val,y_pred_catboost))"
   ]
  },
  {
   "cell_type": "markdown",
   "id": "025d76c3-6d3c-414e-8fac-b07d3cfa8987",
   "metadata": {},
   "source": [
    "**XGBOOST**"
   ]
  },
  {
   "cell_type": "code",
   "execution_count": 80,
   "id": "4a00c30b-d122-4c8c-a662-abea06485438",
   "metadata": {},
   "outputs": [
    {
     "name": "stdout",
     "output_type": "stream",
     "text": [
      "XGBoost Accuracy:  {0.8156424581005587}\n",
      "XGBoost Classification Report:\n",
      "              precision    recall  f1-score   support\n",
      "\n",
      "           0       0.84      0.85      0.84       105\n",
      "           1       0.78      0.77      0.78        74\n",
      "\n",
      "    accuracy                           0.82       179\n",
      "   macro avg       0.81      0.81      0.81       179\n",
      "weighted avg       0.82      0.82      0.82       179\n",
      "\n"
     ]
    }
   ],
   "source": [
    "from xgboost import XGBClassifier\n",
    "\n",
    "# Initialize xgbclassifier\n",
    "xgb_model = XGBClassifier(random_state=42)\n",
    "\n",
    "# Train the model\n",
    "xgb_model.fit(X_train,y_train)\n",
    "\n",
    "# Make predictions\n",
    "y_pred_xgb = xgb_model.predict(X_val)\n",
    "\n",
    "# Evaluate the model\n",
    "accuracy_xgb = accuracy_score(y_val,y_pred_xgb)\n",
    "print(f\"XGBoost Accuracy: \", {accuracy_xgb})\n",
    "\n",
    "# Classification Report\n",
    "print(\"XGBoost Classification Report:\")\n",
    "print(classification_report(y_val,y_pred_xgb))"
   ]
  },
  {
   "cell_type": "markdown",
   "id": "2438a349-553e-4ab7-b0e5-71713a1c0ab4",
   "metadata": {},
   "source": [
    "### Step 6: Hyperparameter Tuning (GridSearchCV)\n",
    "> We’ll use `GridSearchCV` to find the best hyperparameters for XGBoost."
   ]
  },
  {
   "cell_type": "code",
   "execution_count": 83,
   "id": "84c85c6f-147f-43e0-bd83-12b7a8d682e3",
   "metadata": {},
   "outputs": [
    {
     "name": "stdout",
     "output_type": "stream",
     "text": [
      "Fitting 5 folds for each of 27 candidates, totalling 135 fits\n",
      "Best Parameter: {'learning_rate': 0.1, 'max_depth': 3, 'n_estimators': 100}\n",
      "Best Accuracy: 0.8384516891559144\n"
     ]
    }
   ],
   "source": [
    "from sklearn.model_selection import GridSearchCV\n",
    "\n",
    "# Define parameter Grid\n",
    "param_grid = {\n",
    "    'n_estimators': [100, 300, 500],\n",
    "    'max_depth': [3, 5, 7],\n",
    "    'learning_rate': [0.01, 0.1, 0.2]\n",
    "}\n",
    "\n",
    "# Initialize Gridsearchcv\n",
    "gridsearch = GridSearchCV(\n",
    "    estimator=xgb_model,\n",
    "    param_grid=param_grid,\n",
    "    cv=5,\n",
    "    scoring='accuracy',\n",
    "    verbose=1\n",
    ")\n",
    "\n",
    "# Fit GridSearch\n",
    "gridsearch.fit(X_train,y_train)\n",
    "\n",
    "# Best parameters and score\n",
    "print(f\"Best Parameter:\", gridsearch.best_params_)\n",
    "print(f\"Best Accuracy:\", gridsearch.best_score_)\n",
    "\n",
    "# Use the best model\n",
    "best_xgb_model = gridsearch.best_estimator_"
   ]
  },
  {
   "cell_type": "markdown",
   "id": "e94defe8-5471-4478-8521-681993791c44",
   "metadata": {},
   "source": [
    "### Step 7: Model Evaluation\n",
    "> We’ll evaluate the best model using metrics like precision, recall, F1-score, and ROC-AUC."
   ]
  },
  {
   "cell_type": "code",
   "execution_count": 86,
   "id": "05ef53f8-c341-4c43-bbf7-969a83210027",
   "metadata": {},
   "outputs": [
    {
     "name": "stdout",
     "output_type": "stream",
     "text": [
      "Precision: 0.8225806451612904\n",
      "Recall: 0.6891891891891891\n",
      "F1-Score: 0.75\n",
      "ROC-AUC: 0.8787644787644787\n"
     ]
    },
    {
     "data": {
      "image/png": "[encoded data removed]",
      "text/plain": [
       "<Figure size 640x480 with 1 Axes>"
      ]
     },
     "metadata": {},
     "output_type": "display_data"
    }
   ],
   "source": [
    "from sklearn.metrics import precision_score,recall_score,f1_score,RocCurveDisplay,roc_auc_score\n",
    "\n",
    "# Make prediction with the best model\n",
    "y_pred_best = best_xgb_model.predict(X_val)\n",
    "\n",
    "# Calculate metrics\n",
    "precision = precision_score(y_val, y_pred_best)\n",
    "recall = recall_score(y_val, y_pred_best)\n",
    "f1 = f1_score(y_val, y_pred_best)\n",
    "roc_auc = roc_auc_score(y_val, best_xgb_model.predict_proba(X_val)[:, 1])\n",
    "\n",
    "print(\"Precision:\", precision)\n",
    "print(\"Recall:\", recall)\n",
    "print(\"F1-Score:\", f1)\n",
    "print(\"ROC-AUC:\", roc_auc)\n",
    "\n",
    "#Plot roc curve\n",
    "roc_curve = RocCurveDisplay.from_estimator(best_xgb_model, X_val,y_val)\n",
    "plt.title(\"Roc Curve\")\n",
    "plt.show()"
   ]
  },
  {
   "cell_type": "markdown",
   "id": "e3dd41e2-afb9-4d8e-94c2-c7e89a058920",
   "metadata": {},
   "source": [
    "### Step 8: Make Predictions on Test Data\n",
    "> Finally, let’s use the best model to predict survival on the test data."
   ]
  },
  {
   "cell_type": "code",
   "execution_count": 87,
   "id": "851abb9a-19d0-4da6-8657-8abdb8351fcf",
   "metadata": {},
   "outputs": [
    {
     "data": {
      "text/plain": [
       "array([0.21773668, 0.4912378 , 0.03513218, 0.10350171, 0.01618981,\n",
       "       0.04152888, 0.03079865, 0.        , 0.        , 0.06387426],\n",
       "      dtype=float32)"
      ]
     },
     "execution_count": 87,
     "metadata": {},
     "output_type": "execute_result"
    }
   ],
   "source": [
    "best_xgb_model.feature_importances_"
   ]
  },
  {
   "cell_type": "code",
   "execution_count": null,
   "id": "a2d45719-9d0e-4f6a-9754-575bf17bec54",
   "metadata": {},
   "outputs": [],
   "source": []
  }
 ],
 "metadata": {
  "kernelspec": {
   "display_name": "Python 3 (ipykernel)",
   "language": "python",
   "name": "python3"
  },
  "language_info": {
   "codemirror_mode": {
    "name": "ipython",
    "version": 3
   },
   "file_extension": ".py",
   "mimetype": "text/x-python",
   "name": "python",
   "nbconvert_exporter": "python",
   "pygments_lexer": "ipython3",
   "version": "3.12.7"
  }
 },
 "nbformat": 4,
 "nbformat_minor": 5
}
